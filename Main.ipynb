{
 "cells": [
  {
   "cell_type": "markdown",
   "metadata": {},
   "source": [
    "# NATYA\n",
    "### _“Novel Adaptive Technology Yielding Application”_"
   ]
  },
  {
   "cell_type": "code",
   "execution_count": 11,
   "metadata": {},
   "outputs": [
    {
     "name": "stdout",
     "output_type": "stream",
     "text": [
      "Calculator\n",
      "\n"
     ]
    },
    {
     "ename": "NameError",
     "evalue": "name 'exit' is not defined",
     "output_type": "error",
     "traceback": [
      "\u001b[31m---------------------------------------------------------------------------\u001b[39m",
      "\u001b[31mNameError\u001b[39m                                 Traceback (most recent call last)",
      "\u001b[36mCell\u001b[39m\u001b[36m \u001b[39m\u001b[32mIn[11]\u001b[39m\u001b[32m, line 2\u001b[39m\n\u001b[32m      1\u001b[39m \u001b[38;5;28;01mimport\u001b[39;00m \u001b[34;01mtime\u001b[39;00m\n\u001b[32m----> \u001b[39m\u001b[32m2\u001b[39m \u001b[38;5;28;01mimport\u001b[39;00m \u001b[34;01mcalculator\u001b[39;00m\u001b[34;01m.\u001b[39;00m\u001b[34;01mpy\u001b[39;00m\n",
      "\u001b[36mFile \u001b[39m\u001b[32mc:\\Users\\vanes\\Escritorio\\Builds\\NATYA\\calculator.py:118\u001b[39m\n\u001b[32m    115\u001b[39m     \u001b[38;5;28;01mdel\u001b[39;00m secondNumber\n\u001b[32m    116\u001b[39m     \u001b[38;5;28;01mdel\u001b[39;00m result\n\u001b[32m--> \u001b[39m\u001b[32m118\u001b[39m \u001b[43mmain_menu\u001b[49m\u001b[43m(\u001b[49m\u001b[43m)\u001b[49m \u001b[38;5;66;03m# Creates a menu, prints it on console, reads the input, checks if it is on the dictionary and executes the input.\u001b[39;00m\n",
      "\u001b[36mFile \u001b[39m\u001b[32mc:\\Users\\vanes\\Escritorio\\Builds\\NATYA\\calculator.py:40\u001b[39m, in \u001b[36mmain_menu\u001b[39m\u001b[34m()\u001b[39m\n\u001b[32m     33\u001b[39m \u001b[38;5;28;01mdef\u001b[39;00m \u001b[34mmain_menu\u001b[39m(): \u001b[38;5;66;03m# Creates a menu, prints it on console, reads the input, checks if it is on the dictionary and executes the input.\u001b[39;00m\n\u001b[32m     34\u001b[39m     operations = { \u001b[38;5;66;03m# Dictionary where all of the operations are found.\u001b[39;00m\n\u001b[32m     35\u001b[39m         \u001b[33m'\u001b[39m\u001b[33m1\u001b[39m\u001b[33m'\u001b[39m: (\u001b[33m\"\u001b[39m\u001b[33mAddition\u001b[39m\u001b[33m\"\u001b[39m, addition),\n\u001b[32m     36\u001b[39m         \u001b[33m'\u001b[39m\u001b[33m2\u001b[39m\u001b[33m'\u001b[39m: (\u001b[33m\"\u001b[39m\u001b[33mSustraction\u001b[39m\u001b[33m\"\u001b[39m, sustraction),\n\u001b[32m     37\u001b[39m         \u001b[33m'\u001b[39m\u001b[33m3\u001b[39m\u001b[33m'\u001b[39m: (\u001b[33m\"\u001b[39m\u001b[33mMultiplication\u001b[39m\u001b[33m\"\u001b[39m, multiplication),\n\u001b[32m     38\u001b[39m         \u001b[33m'\u001b[39m\u001b[33m4\u001b[39m\u001b[33m'\u001b[39m: (\u001b[33m\"\u001b[39m\u001b[33mDivision\u001b[39m\u001b[33m\"\u001b[39m, division),\n\u001b[32m     39\u001b[39m         \u001b[33m'\u001b[39m\u001b[33m5\u001b[39m\u001b[33m'\u001b[39m: (\u001b[33m\"\u001b[39m\u001b[33mRead memory\u001b[39m\u001b[33m\"\u001b[39m, readMemory),\n\u001b[32m---> \u001b[39m\u001b[32m40\u001b[39m         \u001b[33m'\u001b[39m\u001b[33m6\u001b[39m\u001b[33m'\u001b[39m: (\u001b[33m\"\u001b[39m\u001b[33mExit\u001b[39m\u001b[33m\"\u001b[39m, \u001b[43mexit\u001b[49m)\n\u001b[32m     41\u001b[39m     }\n\u001b[32m     42\u001b[39m     generate_menu(operations, \u001b[33m'\u001b[39m\u001b[33m6\u001b[39m\u001b[33m'\u001b[39m)\n",
      "\u001b[31mNameError\u001b[39m: name 'exit' is not defined"
     ]
    }
   ],
   "source": [
    "import time\n",
    "import calculator.py"
   ]
  },
  {
   "cell_type": "code",
   "execution_count": null,
   "metadata": {},
   "outputs": [
    {
     "name": "stdout",
     "output_type": "stream",
     "text": [
      "=====/ ꒰ ১ NATYA ໒ ꒱ \\=====\n",
      "\n"
     ]
    }
   ],
   "source": [
    "print(\"=====/ ꒰ ১ NATYA ໒ ꒱ \\=====\")\n",
    "print()\n"
   ]
  },
  {
   "cell_type": "code",
   "execution_count": null,
   "metadata": {},
   "outputs": [],
   "source": [
    "# Declaring menu functions\n",
    "\n",
    "def show_menu(operations): # Show menu function, used to show all operations based on the dictionary in main_menu function.\n",
    "    print(\"Select an option: \")\n",
    "    for key in sorted(operations):\n",
    "        print(f' {key}) {operations[key][0]}')\n",
    "\n",
    "def read_option(operations): # Reads input and checks if the input is in the dictionary in main_menu function.\n",
    "    while (a := input('Option: ')) not in operations:\n",
    "        print(\"Incorrect option, try again with another option.\")\n",
    "    return a\n",
    "\n",
    "def execute_option(operation, operations): # Executes the input that was already checked by read_option function.\n",
    "    operations[operation][1]()\n",
    "\n",
    "def generate_menu(operations, output_option): # Generates the menu joining all above functions output.\n",
    "    operation = None\n",
    "    while operation != output_option:\n",
    "        show_menu(operations) # Shows all of the operations based on the dictionary in main_menu function.\n",
    "        operation = read_option(operations) # Reads the input with read_option function.\n",
    "        execute_option(operation, operations) # Executes the input, with execute_option function.\n",
    "        print()\n",
    "\n",
    "def main_menu(): # Creates a menu, prints it on console, reads the input, checks if it is on the dictionary and executes the input.\n",
    "    operations = { # Dictionary where all of the operations are found.\n",
    "        '1': (\"Calculator\", calc.main_menu),\n",
    "        '2': (\"Exit\", exit)\n",
    "    }\n",
    "    generate_menu(operations, '6') # Generates the menu.\n"
   ]
  }
 ],
 "metadata": {
  "kernelspec": {
   "display_name": "Python 3",
   "language": "python",
   "name": "python3"
  },
  "language_info": {
   "codemirror_mode": {
    "name": "ipython",
    "version": 3
   },
   "file_extension": ".py",
   "mimetype": "text/x-python",
   "name": "python",
   "nbconvert_exporter": "python",
   "pygments_lexer": "ipython3",
   "version": "3.11.9"
  }
 },
 "nbformat": 4,
 "nbformat_minor": 2
}
