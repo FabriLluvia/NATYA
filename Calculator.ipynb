{
 "cells": [
  {
   "cell_type": "code",
   "execution_count": 1,
   "id": "201bd871-0f5e-47ab-b4db-d6c7032051ae",
   "metadata": {},
   "outputs": [],
   "source": [
    "import math\n",
    "import time\n",
    "import os"
   ]
  },
  {
   "cell_type": "code",
   "execution_count": 2,
   "id": "2b0a3dab-de19-45be-9e82-b5b9189f0899",
   "metadata": {},
   "outputs": [
    {
     "name": "stdout",
     "output_type": "stream",
     "text": [
      "Calculator\n",
      "\n"
     ]
    }
   ],
   "source": [
    "print(\"Calculator\")\n",
    "print()\n"
   ]
  },
  {
   "cell_type": "code",
   "execution_count": 3,
   "id": "6246750b-bd41-48cb-8904-1612dd3db346",
   "metadata": {},
   "outputs": [],
   "source": [
    "def show_menu(operations):\n",
    "    print(\"Select an option: \")\n",
    "    for key in sorted(operations):\n",
    "        print(f' {key}) {operations[key][0]}')\n",
    "\n",
    "def read_option(operations):\n",
    "    while (a := input('Option: ')) not in operations:\n",
    "        print(\"Incorrect option, try again with another option.\")\n",
    "    return a\n",
    "\n",
    "def execute_option(operation, operations):\n",
    "    operations[operation][1]()\n",
    "\n",
    "def generate_menu(operations, output_option):\n",
    "    operation = None\n",
    "    while operation != output_option:\n",
    "        show_menu(operations)\n",
    "        operation = read_option(operations)\n",
    "        execute_option(operation, operations)\n",
    "        print()\n",
    "\n",
    "def main_menu():\n",
    "    operations = {\n",
    "        '1': (\"Addition\", addition),\n",
    "        '2': (\"Sustraction\", sustraction),\n",
    "        '3': (\"Multiplication\", multiplication),\n",
    "        '4': (\"Division\", division),\n",
    "        '5': (\"Read memory\", readMemory),\n",
    "        '6': (\"Exit\", exit)\n",
    "    }\n",
    "    generate_menu(operations, '5')"
   ]
  },
  {
   "cell_type": "code",
   "execution_count": 7,
   "id": "8f55dcf3-bfae-4756-8c0f-1f672b58065f",
   "metadata": {},
   "outputs": [],
   "source": [
    "if not os.path.exists(\"calculatorMemory.txt\"):\n",
    "        print(\"Memory file not found, creating one...\")\n",
    "        with open(file_path, \"x\"):\n",
    "            pass\n",
    "\n",
    "def readMemory():\n",
    "    with open(\"calculatorMemory.txt\", \"r\") as file: \n",
    "        print(file.read())"
   ]
  },
  {
   "cell_type": "code",
   "execution_count": 8,
   "id": "87b8cc7d-2fce-4b04-ba9a-f616656a7bf1",
   "metadata": {},
   "outputs": [],
   "source": [
    "def addition():\n",
    "    print(\"Addition selected\")\n",
    "    firstNumber = float(input(\"Enter first number: \"))\n",
    "    secondNumber = float(input(\"Enter second number: \"))\n",
    "    result = firstNumber + secondNumber\n",
    "    print(f\"The result of {firstNumber} plus {secondNumber} is equal to {result}.\")\n",
    "    time.sleep(2)\n",
    "    save = input(\"Do you want to save result to memory? Write Y to say yes or anything else to say no: \")\n",
    "    if save.lower() == 'y':\n",
    "        with open(\"calculatorMemory.txt\", \"a\") as f:\n",
    "            f.write(f\"The result of {firstNumber} plus {secondNumber} is equal to {result}.\\n\")\n",
    "    del firstNumber\n",
    "    del secondNumber\n",
    "\n",
    "def sustraction():\n",
    "    print(\"Sustraction selected\")\n",
    "    firstNumber = float(input(\"Enter first number: \"))\n",
    "    secondNumber = float(input(\"Enter second number: \"))\n",
    "    result = firstNumber - secondNumber\n",
    "    print(f\"The result of {firstNumber} minus {secondNumber} is equal to {result}.\")\n",
    "    time.sleep(2)\n",
    "    save = input(\"Do you want to save result to memory? Write Y to say yes or anything else to say no: \")\n",
    "    if save.lower() == 'y':\n",
    "        with open(\"calculatorMemory.txt\", \"a\") as f:\n",
    "            f.write(f\"The result of {firstNumber} minus {secondNumber} is equal to {result}.\\n\")\n",
    "    del firstNumber\n",
    "    del secondNumber\n",
    "\n",
    "def multiplication():\n",
    "    print(\"Multiplication selected\")\n",
    "    firstNumber = float(input(\"Enter first number: \"))\n",
    "    secondNumber = float(input(\"Enter second number: \"))\n",
    "    result = firstNumber * secondNumber\n",
    "    print(f\"The result of {firstNumber} times {secondNumber} is equal to {result}.\")\n",
    "    time.sleep(2)\n",
    "    save = input(\"Do you want to save result to memory? Write Y to say yes or anything else to say no: \")\n",
    "    if save.lower() == 'y':\n",
    "        with open(\"calculatorMemory.txt\", \"a\") as f:\n",
    "            f.write(f\"The result of {firstNumber} times {secondNumber} is equal to {result}.\\n\")\n",
    "    del firstNumber\n",
    "    del secondNumber\n",
    "\n",
    "def division():\n",
    "    print(\"Division selected\")\n",
    "    firstNumber = float(input(\"Enter first number: \"))\n",
    "    secondNumber = float(input(\"Enter second number: \"))\n",
    "    result = firstNumber / secondNumber\n",
    "    print(f\"The result of {firstNumber} divided by {secondNumber} is equal to {result}.\")\n",
    "    time.sleep(2)\n",
    "    save = input(\"Do you want to save result to memory? Write Y to say yes or anything else to say no: \")\n",
    "    if save.lower() == 'y':\n",
    "        with open(\"calculatorMemory.txt\", \"a\") as f:\n",
    "            f.write(f\"The result of {firstNumber} divided by {secondNumber} is equal to {result}.\\n\")\n",
    "    del firstNumber\n",
    "    del secondNumber"
   ]
  },
  {
   "cell_type": "code",
   "execution_count": 9,
   "id": "8e0c57dd-f3f3-43f8-a13a-72249363e0c8",
   "metadata": {},
   "outputs": [
    {
     "name": "stdout",
     "output_type": "stream",
     "text": [
      "Select an option: \n",
      " 1) Addition\n",
      " 2) Sustraction\n",
      " 3) Multiplication\n",
      " 4) Division\n",
      " 5) Read memory\n",
      " 6) Exit\n"
     ]
    },
    {
     "name": "stdin",
     "output_type": "stream",
     "text": [
      "Option:  5\n"
     ]
    },
    {
     "name": "stdout",
     "output_type": "stream",
     "text": [
      "The result of 1.0 plus 1.0 is equal to 2.0.\n",
      "The result of 1.0 plus 1.0 is equal to 2.0.\n",
      "The result of 1.0 minus 1.0 is equal to 0.0.\n",
      "The result of 2.0 times 3.0 is equal to 6.0.\n",
      "The result of 6.0 divided by 3.0 is equal to 2.0.\n",
      "\n",
      "\n"
     ]
    }
   ],
   "source": [
    "main_menu()"
   ]
  },
  {
   "cell_type": "code",
   "execution_count": null,
   "id": "29294dc3-4fde-48f3-a1c2-d189e92824ff",
   "metadata": {},
   "outputs": [],
   "source": []
  },
  {
   "cell_type": "code",
   "execution_count": null,
   "id": "f6f64c17-47f5-4623-83e3-e8275fdc9106",
   "metadata": {},
   "outputs": [],
   "source": []
  }
 ],
 "metadata": {
  "kernelspec": {
   "display_name": "Python 3 (ipykernel)",
   "language": "python",
   "name": "python3"
  },
  "language_info": {
   "codemirror_mode": {
    "name": "ipython",
    "version": 3
   },
   "file_extension": ".py",
   "mimetype": "text/x-python",
   "name": "python",
   "nbconvert_exporter": "python",
   "pygments_lexer": "ipython3",
   "version": "3.11.9"
  }
 },
 "nbformat": 4,
 "nbformat_minor": 5
}
