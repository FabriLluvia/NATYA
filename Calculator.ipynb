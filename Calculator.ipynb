{
 "cells": [
  {
   "cell_type": "code",
   "execution_count": null,
   "id": "201bd871-0f5e-47ab-b4db-d6c7032051ae",
   "metadata": {},
   "outputs": [],
   "source": [
    "# Importing libraries.\n",
    "import math\n",
    "import time\n",
    "import os\n"
   ]
  },
  {
   "cell_type": "code",
   "execution_count": null,
   "id": "2b0a3dab-de19-45be-9e82-b5b9189f0899",
   "metadata": {},
   "outputs": [],
   "source": [
    "# Printing title.\n",
    "print(\"Calculator\")\n",
    "print()\n"
   ]
  },
  {
   "cell_type": "code",
   "execution_count": null,
   "id": "6246750b-bd41-48cb-8904-1612dd3db346",
   "metadata": {},
   "outputs": [],
   "source": [
    "# Declaring menu functions\n",
    "\n",
    "def show_menu(operations): # Show menu function, used to show all operations based on the dictionary in main_menu function.\n",
    "    print(\"Select an option: \")\n",
    "    for key in sorted(operations):\n",
    "        print(f' {key}) {operations[key][0]}')\n",
    "\n",
    "def read_option(operations): # Reads input and checks if the input is in the dictionary in main_menu function.\n",
    "    while (a := input('Option: ')) not in operations:\n",
    "        print(\"Incorrect option, try again with another option.\")\n",
    "    return a\n",
    "\n",
    "def execute_option(operation, operations): # Executes the input that was already checked by read_option function.\n",
    "    operations[operation][1]()\n",
    "\n",
    "def generate_menu(operations, output_option): # Generates the menu joining all above functions output.\n",
    "    operation = None\n",
    "    while operation != output_option:\n",
    "        show_menu(operations) # Shows all of the operations based on the dictionary in main_menu function.\n",
    "        operation = read_option(operations) # Reads the input with read_option function.\n",
    "        execute_option(operation, operations) # Executes the input, with execute_option function.\n",
    "        print()\n",
    "\n",
    "def main_menu(): # Creates a menu, prints it on console, reads the input, checks if it is on the dictionary and executes the input.\n",
    "    operations = { # Dictionary where all of the operations are found.\n",
    "        '1': (\"Addition\", addition),\n",
    "        '2': (\"Sustraction\", sustraction),\n",
    "        '3': (\"Multiplication\", multiplication),\n",
    "        '4': (\"Division\", division),\n",
    "        '5': (\"Read memory\", readMemory),\n",
    "        '6': (\"Exit\", exit)\n",
    "    }\n",
    "    generate_menu(operations, '6') # Generates the menu."
   ]
  },
  {
   "cell_type": "code",
   "execution_count": null,
   "id": "8f55dcf3-bfae-4756-8c0f-1f672b58065f",
   "metadata": {},
   "outputs": [],
   "source": [
    "if not os.path.exists(\"calculatorMemory.txt\"): # Checks if calculatorMemory.txt exists.\n",
    "        print(\"Memory file not found, creating one...\") # If it doesn't exist, it creates the file.\n",
    "        with open(\"calculatorMemory.txt\", \"x\"):\n",
    "            pass\n",
    "\n",
    "def readMemory(): # Opens calculatorMemory.txt and reads it, so the file can be edited later.\n",
    "    with open(\"calculatorMemory.txt\", \"r\") as file: \n",
    "        print(file.read())\n",
    "        time.sleep(2)"
   ]
  },
  {
   "cell_type": "code",
   "execution_count": null,
   "id": "87b8cc7d-2fce-4b04-ba9a-f616656a7bf1",
   "metadata": {},
   "outputs": [],
   "source": [
    "def addition():\n",
    "    print(\"Addition selected\")\n",
    "    firstNumber = float(input(\"Enter first number: \")) # Asks for input.\n",
    "    secondNumber = float(input(\"Enter second number: \"))\n",
    "    result = firstNumber + secondNumber # Makes the operation.\n",
    "    print(f\"The result of {firstNumber} plus {secondNumber} is equal to {result}.\") # Prints the result.\n",
    "    time.sleep(2) # Waits two seconds.\n",
    "    save = input(\"Do you want to save result to memory? Write Y to say yes or anything else to say no: \") # Asks if the result should be saved to memory.\n",
    "    if save.lower() == 'y': # Checks the input.\n",
    "        with open(\"calculatorMemory.txt\", \"a\") as f:\n",
    "            f.write(f\"The result of {firstNumber} plus {secondNumber} is equal to {result}.\\n\") # Writes the result to memory.\n",
    "    # Deletes variables to free memory.\n",
    "    del firstNumber\n",
    "    del secondNumber\n",
    "    del result\n",
    "\n",
    "def sustraction():\n",
    "    print(\"Sustraction selected\")\n",
    "    firstNumber = float(input(\"Enter first number: \")) # Asks for input.\n",
    "    secondNumber = float(input(\"Enter second number: \"))\n",
    "    result = firstNumber - secondNumber # Makes the operation.\n",
    "    print(f\"The result of {firstNumber} minus {secondNumber} is equal to {result}.\") # Prints the result.\n",
    "    time.sleep(2) # Waits two seconds.\n",
    "    save = input(\"Do you want to save result to memory? Write Y to say yes or anything else to say no: \") # Asks if the result should be saved to memory.\n",
    "    if save.lower() == 'y': # Checks the input.\n",
    "        with open(\"calculatorMemory.txt\", \"a\") as f:\n",
    "            f.write(f\"The result of {firstNumber} minus {secondNumber} is equal to {result}.\\n\") # Writes the result to memory.\n",
    "    # Deletes variables to free memory.\n",
    "    del firstNumber\n",
    "    del secondNumber\n",
    "    del result\n",
    "\n",
    "def multiplication():\n",
    "    print(\"Multiplication selected\")\n",
    "    firstNumber = float(input(\"Enter first number: \")) # Asks for input.\n",
    "    secondNumber = float(input(\"Enter second number: \"))\n",
    "    result = firstNumber * secondNumber # Makes the operation.\n",
    "    print(f\"The result of {firstNumber} times {secondNumber} is equal to {result}.\") # Prints the result.\n",
    "    time.sleep(2) # Waits two seconds.\n",
    "    save = input(\"Do you want to save result to memory? Write Y to say yes or anything else to say no: \") # Asks if the result should be saved to memory.\n",
    "    if save.lower() == 'y': # Checks the input.\n",
    "        with open(\"calculatorMemory.txt\", \"a\") as f:\n",
    "            f.write(f\"The result of {firstNumber} times {secondNumber} is equal to {result}.\\n\") # Writes the result to memory.\n",
    "    # Deletes variables to free memory.\n",
    "    del firstNumber\n",
    "    del secondNumber\n",
    "    del result\n",
    "\n",
    "def division():\n",
    "    print(\"Division selected\")\n",
    "    firstNumber = float(input(\"Enter first number: \")) # Asks for input.\n",
    "    secondNumber = float(input(\"Enter second number: \"))\n",
    "    result = firstNumber / secondNumber # Makes the operation.\n",
    "    print(f\"The result of {firstNumber} divided by {secondNumber} is equal to {result}.\") # Prints the result.\n",
    "    time.sleep(2) # Waits two seconds.\n",
    "    save = input(\"Do you want to save result to memory? Write Y to say yes or anything else to say no: \") # Asks if the result should be saved to memory.\n",
    "    if save.lower() == 'y': # Checks the input.\n",
    "        with open(\"calculatorMemory.txt\", \"a\") as f:\n",
    "            f.write(f\"The result of {firstNumber} divided by {secondNumber} is equal to {result}.\\n\") # Writes the result to memory.\n",
    "    # Deletes variables to free memory.\n",
    "    del firstNumber\n",
    "    del secondNumber\n",
    "    del result"
   ]
  },
  {
   "cell_type": "code",
   "execution_count": null,
   "id": "8e0c57dd-f3f3-43f8-a13a-72249363e0c8",
   "metadata": {
    "scrolled": true
   },
   "outputs": [],
   "source": [
    "main_menu() # Creates a menu, prints it on console, reads the input, checks if it is on the dictionary and executes the input."
   ]
  }
 ],
 "metadata": {
  "kernelspec": {
   "display_name": "Python 3",
   "language": "python",
   "name": "python3"
  },
  "language_info": {
   "codemirror_mode": {
    "name": "ipython",
    "version": 3
   },
   "file_extension": ".py",
   "mimetype": "text/x-python",
   "name": "python",
   "nbconvert_exporter": "python",
   "pygments_lexer": "ipython3",
   "version": "3.11.9"
  }
 },
 "nbformat": 4,
 "nbformat_minor": 5
}
